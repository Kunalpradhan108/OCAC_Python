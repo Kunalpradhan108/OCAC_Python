{
 "cells": [
  {
   "cell_type": "code",
   "execution_count": 1,
   "id": "b3858bfb-ace9-460c-8034-7514536608ff",
   "metadata": {},
   "outputs": [
    {
     "data": {
      "text/plain": [
       "'NIELIT'"
      ]
     },
     "execution_count": 1,
     "metadata": {},
     "output_type": "execute_result"
    }
   ],
   "source": [
    "c='NIELIT'\n",
    "c"
   ]
  },
  {
   "cell_type": "code",
   "execution_count": 2,
   "id": "9c6f8577-a0a4-4a1e-9504-2cf71ec8511c",
   "metadata": {},
   "outputs": [
    {
     "ename": "NameError",
     "evalue": "name 'b' is not defined",
     "output_type": "error",
     "traceback": [
      "\u001b[1;31m---------------------------------------------------------------------------\u001b[0m",
      "\u001b[1;31mNameError\u001b[0m                                 Traceback (most recent call last)",
      "Cell \u001b[1;32mIn[2], line 1\u001b[0m\n\u001b[1;32m----> 1\u001b[0m \u001b[38;5;28mprint\u001b[39m(b)\n",
      "\u001b[1;31mNameError\u001b[0m: name 'b' is not defined"
     ]
    }
   ],
   "source": [
    "print(b)"
   ]
  },
  {
   "cell_type": "code",
   "execution_count": null,
   "id": "680eedb6-96a1-4e71-88a6-3e8e7ab6f4f4",
   "metadata": {},
   "outputs": [],
   "source": [
    "SINGLE VARIABLE ASSIGNMENT"
   ]
  },
  {
   "cell_type": "code",
   "execution_count": 3,
   "id": "9138c412-3534-46ec-869f-8c10683c4adf",
   "metadata": {},
   "outputs": [
    {
     "data": {
      "text/plain": [
       "30"
      ]
     },
     "execution_count": 3,
     "metadata": {},
     "output_type": "execute_result"
    }
   ],
   "source": [
    "a=30\n",
    "a"
   ]
  },
  {
   "cell_type": "code",
   "execution_count": 5,
   "id": "9f092fe1-5de9-4e66-b036-3d0317f2b971",
   "metadata": {},
   "outputs": [
    {
     "data": {
      "text/plain": [
       "int"
      ]
     },
     "execution_count": 5,
     "metadata": {},
     "output_type": "execute_result"
    }
   ],
   "source": [
    "type(a)"
   ]
  },
  {
   "cell_type": "code",
   "execution_count": 6,
   "id": "dace31d4-c57b-4ea9-a099-a8c542352dfc",
   "metadata": {},
   "outputs": [
    {
     "ename": "NameError",
     "evalue": "name 'b' is not defined",
     "output_type": "error",
     "traceback": [
      "\u001b[1;31m---------------------------------------------------------------------------\u001b[0m",
      "\u001b[1;31mNameError\u001b[0m                                 Traceback (most recent call last)",
      "Cell \u001b[1;32mIn[6], line 1\u001b[0m\n\u001b[1;32m----> 1\u001b[0m \u001b[38;5;28mtype\u001b[39m(b)\n",
      "\u001b[1;31mNameError\u001b[0m: name 'b' is not defined"
     ]
    }
   ],
   "source": [
    "type(b)"
   ]
  },
  {
   "cell_type": "code",
   "execution_count": 7,
   "id": "1f9fd190-7831-46fe-90fe-a5490eb32611",
   "metadata": {},
   "outputs": [
    {
     "data": {
      "text/plain": [
       "'NIELIT'"
      ]
     },
     "execution_count": 7,
     "metadata": {},
     "output_type": "execute_result"
    }
   ],
   "source": [
    "b='NIELIT'\n",
    "b"
   ]
  },
  {
   "cell_type": "code",
   "execution_count": 8,
   "id": "698f791b-4abb-4532-b575-9ca00f630600",
   "metadata": {},
   "outputs": [
    {
     "data": {
      "text/plain": [
       "80"
      ]
     },
     "execution_count": 8,
     "metadata": {},
     "output_type": "execute_result"
    }
   ],
   "source": [
    "ib=80\n",
    "ib"
   ]
  },
  {
   "cell_type": "code",
   "execution_count": 9,
   "id": "926a325e-22cb-415c-a62e-74a50122737a",
   "metadata": {},
   "outputs": [
    {
     "data": {
      "text/plain": [
       "'80'"
      ]
     },
     "execution_count": 9,
     "metadata": {},
     "output_type": "execute_result"
    }
   ],
   "source": [
    "c='80'\n",
    "c"
   ]
  },
  {
   "cell_type": "code",
   "execution_count": 12,
   "id": "6113761b-8a48-49d5-a7a6-d2ddda030cb9",
   "metadata": {},
   "outputs": [
    {
     "data": {
      "text/plain": [
       "int"
      ]
     },
     "execution_count": 12,
     "metadata": {},
     "output_type": "execute_result"
    }
   ],
   "source": [
    "type(c)"
   ]
  },
  {
   "cell_type": "code",
   "execution_count": 20,
   "id": "780e6cac-b888-497c-988f-031f5d819ba3",
   "metadata": {},
   "outputs": [
    {
     "data": {
      "text/plain": [
       "'80a'"
      ]
     },
     "execution_count": 20,
     "metadata": {},
     "output_type": "execute_result"
    }
   ],
   "source": [
    "cd=\"80a\"\n",
    "cd"
   ]
  },
  {
   "cell_type": "code",
   "execution_count": 21,
   "id": "9d7d8e0a-6390-4d29-ac4d-0b376cc9b7eb",
   "metadata": {},
   "outputs": [
    {
     "data": {
      "text/plain": [
       "str"
      ]
     },
     "execution_count": 21,
     "metadata": {},
     "output_type": "execute_result"
    }
   ],
   "source": [
    "type(cd)\n"
   ]
  },
  {
   "cell_type": "code",
   "execution_count": 22,
   "id": "6e3eb986-bd99-4f8f-89b7-35d09834053d",
   "metadata": {},
   "outputs": [
    {
     "name": "stdout",
     "output_type": "stream",
     "text": [
      "['False', 'None', 'True', 'and', 'as', 'assert', 'async', 'await', 'break', 'class', 'continue', 'def', 'del', 'elif', 'else', 'except', 'finally', 'for', 'from', 'global', 'if', 'import', 'in', 'is', 'lambda', 'nonlocal', 'not', 'or', 'pass', 'raise', 'return', 'try', 'while', 'with', 'yield']\n"
     ]
    }
   ],
   "source": [
    "import keyword\n",
    "print(keyword.kwlist)\n",
    "\n"
   ]
  },
  {
   "cell_type": "code",
   "execution_count": 23,
   "id": "7bc95ad3-bc92-4020-b049-a4fa4dd17b8d",
   "metadata": {},
   "outputs": [
    {
     "data": {
      "text/plain": [
       "35"
      ]
     },
     "execution_count": 23,
     "metadata": {},
     "output_type": "execute_result"
    }
   ],
   "source": [
    "len(keyword.kwlist)\n"
   ]
  },
  {
   "cell_type": "code",
   "execution_count": 24,
   "id": "f533d7ad-4958-4c28-bfb8-3edb717d1e8a",
   "metadata": {},
   "outputs": [
    {
     "ename": "SyntaxError",
     "evalue": "cannot assign to False (3604249821.py, line 1)",
     "output_type": "error",
     "traceback": [
      "\u001b[1;36m  Cell \u001b[1;32mIn[24], line 1\u001b[1;36m\u001b[0m\n\u001b[1;33m    False=\"9548\"\u001b[0m\n\u001b[1;37m    ^\u001b[0m\n\u001b[1;31mSyntaxError\u001b[0m\u001b[1;31m:\u001b[0m cannot assign to False\n"
     ]
    }
   ],
   "source": [
    "False=\"9548\"\n",
    "False"
   ]
  },
  {
   "cell_type": "code",
   "execution_count": 25,
   "id": "d6683d04-69b3-4bfa-8f0b-8d823bbfd0a0",
   "metadata": {},
   "outputs": [
    {
     "data": {
      "text/plain": [
       "50"
      ]
     },
     "execution_count": 25,
     "metadata": {},
     "output_type": "execute_result"
    }
   ],
   "source": [
    "al=50\n",
    "al"
   ]
  },
  {
   "cell_type": "code",
   "execution_count": 26,
   "id": "4816863d-6ea6-4e14-b36c-8a64321f0977",
   "metadata": {},
   "outputs": [
    {
     "ename": "SyntaxError",
     "evalue": "invalid decimal literal (2952824020.py, line 1)",
     "output_type": "error",
     "traceback": [
      "\u001b[1;36m  Cell \u001b[1;32mIn[26], line 1\u001b[1;36m\u001b[0m\n\u001b[1;33m    1b=90\u001b[0m\n\u001b[1;37m    ^\u001b[0m\n\u001b[1;31mSyntaxError\u001b[0m\u001b[1;31m:\u001b[0m invalid decimal literal\n"
     ]
    }
   ],
   "source": [
    "1b=90\n",
    "1b"
   ]
  },
  {
   "cell_type": "code",
   "execution_count": 27,
   "id": "6cd20324-7857-42e8-9e7e-41dff985c89a",
   "metadata": {},
   "outputs": [
    {
     "ename": "SyntaxError",
     "evalue": "invalid syntax (3063653745.py, line 1)",
     "output_type": "error",
     "traceback": [
      "\u001b[1;36m  Cell \u001b[1;32mIn[27], line 1\u001b[1;36m\u001b[0m\n\u001b[1;33m    b$7=100\u001b[0m\n\u001b[1;37m     ^\u001b[0m\n\u001b[1;31mSyntaxError\u001b[0m\u001b[1;31m:\u001b[0m invalid syntax\n"
     ]
    }
   ],
   "source": [
    "b$7=100\n",
    "b$"
   ]
  },
  {
   "cell_type": "code",
   "execution_count": 28,
   "id": "0ac2b1d1-18b0-4f48-89a1-19b41035725d",
   "metadata": {},
   "outputs": [
    {
     "data": {
      "text/plain": [
       "456"
      ]
     },
     "execution_count": 28,
     "metadata": {},
     "output_type": "execute_result"
    }
   ],
   "source": [
    "b_6=456\n",
    "b_6"
   ]
  },
  {
   "cell_type": "code",
   "execution_count": 29,
   "id": "91f89b23-9183-4ae2-a54c-ffcdc1ca7863",
   "metadata": {},
   "outputs": [
    {
     "data": {
      "text/plain": [
       "2271018193360"
      ]
     },
     "execution_count": 29,
     "metadata": {},
     "output_type": "execute_result"
    }
   ],
   "source": [
    "#storagelocation\n",
    "id(b_6)"
   ]
  },
  {
   "cell_type": "code",
   "execution_count": 30,
   "id": "3c10953f-d9b5-4b3b-b3c5-6a31135ba503",
   "metadata": {},
   "outputs": [
    {
     "data": {
      "text/plain": [
       "2271018192944"
      ]
     },
     "execution_count": 30,
     "metadata": {},
     "output_type": "execute_result"
    }
   ],
   "source": [
    "v=504\n",
    "v\n",
    "id(v)"
   ]
  },
  {
   "cell_type": "code",
   "execution_count": 31,
   "id": "9b86b2b0-adfe-4b8b-9630-3b02080a75cd",
   "metadata": {},
   "outputs": [
    {
     "data": {
      "text/plain": [
       "2271018193936"
      ]
     },
     "execution_count": 31,
     "metadata": {},
     "output_type": "execute_result"
    }
   ],
   "source": [
    "v=852\n",
    "id(v)"
   ]
  },
  {
   "cell_type": "code",
   "execution_count": 32,
   "id": "e73ac07d-6fbb-4d6f-85dd-473113dfb5b2",
   "metadata": {},
   "outputs": [
    {
     "data": {
      "text/plain": [
       "140733809872424"
      ]
     },
     "execution_count": 32,
     "metadata": {},
     "output_type": "execute_result"
    }
   ],
   "source": [
    "b=89\n",
    "c=80\n",
    "id(b)"
   ]
  },
  {
   "cell_type": "code",
   "execution_count": 33,
   "id": "46b54b78-1457-4cf0-8e42-8690402b5e5c",
   "metadata": {},
   "outputs": [
    {
     "data": {
      "text/plain": [
       "140733809872136"
      ]
     },
     "execution_count": 33,
     "metadata": {},
     "output_type": "execute_result"
    }
   ],
   "source": [
    "id(c)"
   ]
  },
  {
   "cell_type": "code",
   "execution_count": 34,
   "id": "e6abb944-e711-40cd-8fed-c74b175db392",
   "metadata": {},
   "outputs": [
    {
     "data": {
      "text/plain": [
       "140733809872712"
      ]
     },
     "execution_count": 34,
     "metadata": {},
     "output_type": "execute_result"
    }
   ],
   "source": [
    "d=98\n",
    "id(d)"
   ]
  },
  {
   "cell_type": "code",
   "execution_count": 35,
   "id": "1a1e3be9-c6f5-431d-b7ee-810d6d77468c",
   "metadata": {},
   "outputs": [
    {
     "data": {
      "text/plain": [
       "140733809871240"
      ]
     },
     "execution_count": 35,
     "metadata": {},
     "output_type": "execute_result"
    }
   ],
   "source": [
    "d=52\n",
    "id(d)"
   ]
  },
  {
   "cell_type": "code",
   "execution_count": 37,
   "id": "3c35d5f3-6c0c-457e-9c0b-bc2ee5a947fa",
   "metadata": {},
   "outputs": [
    {
     "name": "stdout",
     "output_type": "stream",
     "text": [
      "The summation of two number are sum 40\n"
     ]
    }
   ],
   "source": [
    "a=10\n",
    "b=30\n",
    "sum=a+b\n",
    "print(\"The summation of two number are sum\",sum)"
   ]
  },
  {
   "cell_type": "code",
   "execution_count": 38,
   "id": "7a792c3c-e053-43af-a4c8-97e64da34a41",
   "metadata": {},
   "outputs": [
    {
     "data": {
      "text/plain": [
       "('The summation of two number are', 40)"
      ]
     },
     "execution_count": 38,
     "metadata": {},
     "output_type": "execute_result"
    }
   ],
   "source": [
    "\"The summation of two number are\",sum"
   ]
  },
  {
   "cell_type": "code",
   "execution_count": 39,
   "id": "67932154-26e5-4bf9-9445-08d1edc7a53d",
   "metadata": {},
   "outputs": [
    {
     "data": {
      "text/plain": [
       "40"
      ]
     },
     "execution_count": 39,
     "metadata": {},
     "output_type": "execute_result"
    }
   ],
   "source": [
    "sum"
   ]
  },
  {
   "cell_type": "code",
   "execution_count": 41,
   "id": "b5dc716c-eed7-4fb9-b99e-052c6c207d6f",
   "metadata": {},
   "outputs": [
    {
     "data": {
      "text/plain": [
       "9"
      ]
     },
     "execution_count": 41,
     "metadata": {},
     "output_type": "execute_result"
    }
   ],
   "source": [
    "a=b=c=9\n",
    "a"
   ]
  },
  {
   "cell_type": "code",
   "execution_count": 42,
   "id": "c5dbcce9-a3f1-4905-8e86-69668f66806d",
   "metadata": {},
   "outputs": [
    {
     "data": {
      "text/plain": [
       "9"
      ]
     },
     "execution_count": 42,
     "metadata": {},
     "output_type": "execute_result"
    }
   ],
   "source": [
    "b"
   ]
  },
  {
   "cell_type": "code",
   "execution_count": 43,
   "id": "bd1aa82c-4f3f-436c-b479-11f62e9588f1",
   "metadata": {},
   "outputs": [
    {
     "data": {
      "text/plain": [
       "9"
      ]
     },
     "execution_count": 43,
     "metadata": {},
     "output_type": "execute_result"
    }
   ],
   "source": [
    "c"
   ]
  },
  {
   "cell_type": "code",
   "execution_count": 44,
   "id": "e520ca0e-49c9-434f-acf7-0342587de62b",
   "metadata": {},
   "outputs": [
    {
     "name": "stdout",
     "output_type": "stream",
     "text": [
      "87 65 43\n"
     ]
    }
   ],
   "source": [
    "a=87\n",
    "b=65\n",
    "c=43\n",
    "abc=87\n",
    "print(a,b,c)"
   ]
  },
  {
   "cell_type": "code",
   "execution_count": 45,
   "id": "eab8d609-4e93-4ae9-9014-07809b9a825e",
   "metadata": {},
   "outputs": [
    {
     "name": "stdout",
     "output_type": "stream",
     "text": [
      "87\n"
     ]
    }
   ],
   "source": [
    "print(abc)"
   ]
  },
  {
   "cell_type": "code",
   "execution_count": 46,
   "id": "f511303d-bff5-4471-aa06-6e239ac44088",
   "metadata": {},
   "outputs": [
    {
     "name": "stdout",
     "output_type": "stream",
     "text": [
      "64\n"
     ]
    }
   ],
   "source": [
    "a=64\n",
    "print(a)"
   ]
  },
  {
   "cell_type": "code",
   "execution_count": 47,
   "id": "44c8f5db-a24d-40a6-bcb0-773bfb8024c5",
   "metadata": {},
   "outputs": [],
   "source": [
    "#Delete Element\n",
    "del(a)"
   ]
  },
  {
   "cell_type": "code",
   "execution_count": 48,
   "id": "e4df463c-a60d-4de8-9223-d4859cf7d1cf",
   "metadata": {},
   "outputs": [
    {
     "ename": "NameError",
     "evalue": "name 'a' is not defined",
     "output_type": "error",
     "traceback": [
      "\u001b[1;31m---------------------------------------------------------------------------\u001b[0m",
      "\u001b[1;31mNameError\u001b[0m                                 Traceback (most recent call last)",
      "Cell \u001b[1;32mIn[48], line 1\u001b[0m\n\u001b[1;32m----> 1\u001b[0m \u001b[38;5;28mprint\u001b[39m(a)\n",
      "\u001b[1;31mNameError\u001b[0m: name 'a' is not defined"
     ]
    }
   ],
   "source": [
    "print(a)"
   ]
  },
  {
   "cell_type": "code",
   "execution_count": 49,
   "id": "ce693d39-e45e-42bb-b3f1-544cae5843f9",
   "metadata": {},
   "outputs": [],
   "source": [
    "#to clear van ab l e expl orer\n",
    "a=10\n",
    "b=30\n",
    "c=50\n",
    "del a,b\n",
    "\n"
   ]
  },
  {
   "cell_type": "code",
   "execution_count": 50,
   "id": "ca7c830e-39b8-4e29-9d6c-12bdefc24bb0",
   "metadata": {},
   "outputs": [
    {
     "name": "stdout",
     "output_type": "stream",
     "text": [
      "50\n"
     ]
    }
   ],
   "source": [
    "print(c)"
   ]
  },
  {
   "cell_type": "code",
   "execution_count": 51,
   "id": "dc51afb8-62c0-43b4-806f-d31be6aaaebf",
   "metadata": {},
   "outputs": [
    {
     "ename": "SyntaxError",
     "evalue": "invalid decimal literal (2003050792.py, line 1)",
     "output_type": "error",
     "traceback": [
      "\u001b[1;36m  Cell \u001b[1;32mIn[51], line 1\u001b[1;36m\u001b[0m\n\u001b[1;33m    1a=50\u001b[0m\n\u001b[1;37m    ^\u001b[0m\n\u001b[1;31mSyntaxError\u001b[0m\u001b[1;31m:\u001b[0m invalid decimal literal\n"
     ]
    }
   ],
   "source": [
    "1a=50"
   ]
  },
  {
   "cell_type": "code",
   "execution_count": 52,
   "id": "302408da-1897-413c-b8a9-b14780ca2a75",
   "metadata": {},
   "outputs": [
    {
     "ename": "SyntaxError",
     "evalue": "cannot assign to expression here. Maybe you meant '==' instead of '='? (2179156438.py, line 1)",
     "output_type": "error",
     "traceback": [
      "\u001b[1;36m  Cell \u001b[1;32mIn[52], line 1\u001b[1;36m\u001b[0m\n\u001b[1;33m    a@1=70\u001b[0m\n\u001b[1;37m    ^\u001b[0m\n\u001b[1;31mSyntaxError\u001b[0m\u001b[1;31m:\u001b[0m cannot assign to expression here. Maybe you meant '==' instead of '='?\n"
     ]
    }
   ],
   "source": [
    "a@1=70\n"
   ]
  },
  {
   "cell_type": "code",
   "execution_count": null,
   "id": "aeb18515-0fb5-40c6-bd7e-d3b10a957868",
   "metadata": {},
   "outputs": [],
   "source": [
    "\n",
    "MULTIPLE ASSIGNMENTS"
   ]
  },
  {
   "cell_type": "code",
   "execution_count": 53,
   "id": "cd11088a-079a-41a8-bff6-046cc083372c",
   "metadata": {},
   "outputs": [
    {
     "name": "stdout",
     "output_type": "stream",
     "text": [
      "10 20 30\n"
     ]
    }
   ],
   "source": [
    "a=10\n",
    "b=20\n",
    "c=30\n",
    "print(a,b,c)"
   ]
  },
  {
   "cell_type": "code",
   "execution_count": 54,
   "id": "6062a573-0a22-45b0-9c24-6d4ce880f820",
   "metadata": {},
   "outputs": [
    {
     "name": "stdout",
     "output_type": "stream",
     "text": [
      "10 20 30\n"
     ]
    }
   ],
   "source": [
    "#we can as ss ign/r u l tiple van ab les in a sinlel one \n",
    "a,b,c=10,20,30\n",
    "print(a,b,c)\n"
   ]
  },
  {
   "cell_type": "code",
   "execution_count": 55,
   "id": "7e04b698-d09b-4bad-a4d6-3c4a1c6480bd",
   "metadata": {},
   "outputs": [
    {
     "name": "stdout",
     "output_type": "stream",
     "text": [
      "AI\n"
     ]
    }
   ],
   "source": [
    "#as sign the same val ue to/r ul tip le variables at once\n",
    "a=b=c=\"AI\"\n",
    "print(c)"
   ]
  },
  {
   "cell_type": "code",
   "execution_count": null,
   "id": "eaa293ec-f1f9-4751-a9e7-ab732e051f6d",
   "metadata": {},
   "outputs": [],
   "source": []
  }
 ],
 "metadata": {
  "kernelspec": {
   "display_name": "Python 3 (ipykernel)",
   "language": "python",
   "name": "python3"
  },
  "language_info": {
   "codemirror_mode": {
    "name": "ipython",
    "version": 3
   },
   "file_extension": ".py",
   "mimetype": "text/x-python",
   "name": "python",
   "nbconvert_exporter": "python",
   "pygments_lexer": "ipython3",
   "version": "3.11.7"
  }
 },
 "nbformat": 4,
 "nbformat_minor": 5
}
