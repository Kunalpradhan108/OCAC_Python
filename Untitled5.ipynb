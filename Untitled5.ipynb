{
 "cells": [
  {
   "cell_type": "code",
   "execution_count": 1,
   "id": "30dd846a-d447-4343-9d24-35a1a623735b",
   "metadata": {},
   "outputs": [
    {
     "name": "stdout",
     "output_type": "stream",
     "text": [
      "2\n"
     ]
    }
   ],
   "source": [
    "print(2)"
   ]
  },
  {
   "cell_type": "code",
   "execution_count": 2,
   "id": "654ac96d-820b-4093-8d37-599ce392ba65",
   "metadata": {},
   "outputs": [
    {
     "name": "stdout",
     "output_type": "stream",
     "text": [
      "kunal\n"
     ]
    }
   ],
   "source": [
    "print(\"kunal\")"
   ]
  },
  {
   "cell_type": "code",
   "execution_count": 3,
   "id": "ece3f7ec-91cb-4c0f-9f6e-1c161d39d84c",
   "metadata": {},
   "outputs": [
    {
     "name": "stdout",
     "output_type": "stream",
     "text": [
      "asffsfw 12!@#$\n"
     ]
    }
   ],
   "source": [
    "print(\"asffsfw 12!@#$\")"
   ]
  },
  {
   "cell_type": "code",
   "execution_count": 4,
   "id": "94412cee-b05d-4733-87cc-ba8224266f0c",
   "metadata": {},
   "outputs": [
    {
     "name": "stdout",
     "output_type": "stream",
     "text": [
      "55\n"
     ]
    }
   ],
   "source": [
    "b=55\n",
    "print(b)"
   ]
  },
  {
   "cell_type": "code",
   "execution_count": 5,
   "id": "ec7922b0-4154-41bb-bbc9-c00cfe78ace3",
   "metadata": {},
   "outputs": [
    {
     "name": "stdout",
     "output_type": "stream",
     "text": [
      "66\n"
     ]
    }
   ],
   "source": [
    "hari=66\n",
    "print(hari)"
   ]
  },
  {
   "cell_type": "code",
   "execution_count": 6,
   "id": "d03d74c5-a0ed-4ecd-a4df-404d600f43b1",
   "metadata": {},
   "outputs": [
    {
     "name": "stdout",
     "output_type": "stream",
     "text": [
      "hari\n"
     ]
    }
   ],
   "source": [
    "print(\"hari\")"
   ]
  },
  {
   "cell_type": "code",
   "execution_count": 7,
   "id": "ffef3fb6-c9b0-44fe-9f73-d551212d7b25",
   "metadata": {},
   "outputs": [
    {
     "name": "stdout",
     "output_type": "stream",
     "text": [
      "50 60 70 80\n"
     ]
    }
   ],
   "source": [
    "a=50\n",
    "b=60\n",
    "c=70\n",
    "d=80\n",
    "print(a,b,c,d)"
   ]
  },
  {
   "cell_type": "code",
   "execution_count": 8,
   "id": "12c33f13-7241-45a8-94fc-a6a7671b0483",
   "metadata": {},
   "outputs": [
    {
     "name": "stdout",
     "output_type": "stream",
     "text": [
      "2\n"
     ]
    },
    {
     "data": {
      "text/plain": [
       "int"
      ]
     },
     "execution_count": 8,
     "metadata": {},
     "output_type": "execute_result"
    }
   ],
   "source": [
    "a=2\n",
    "print(a)\n",
    "type(a)"
   ]
  },
  {
   "cell_type": "code",
   "execution_count": 9,
   "id": "fc0a4cc4-f4b3-4486-bffd-3a976f39624e",
   "metadata": {},
   "outputs": [
    {
     "name": "stdout",
     "output_type": "stream",
     "text": [
      "2\n"
     ]
    },
    {
     "data": {
      "text/plain": [
       "str"
      ]
     },
     "execution_count": 9,
     "metadata": {},
     "output_type": "execute_result"
    }
   ],
   "source": [
    "a='2'\n",
    "print(a)\n",
    "type(a)"
   ]
  },
  {
   "cell_type": "code",
   "execution_count": 12,
   "id": "f2350c08-45b2-4368-9ab2-51223aa1a8af",
   "metadata": {},
   "outputs": [
    {
     "name": "stdout",
     "output_type": "stream",
     "text": [
      "110\n"
     ]
    }
   ],
   "source": [
    "#print function in python 3\n",
    "a=50\n",
    "b=60\n",
    "c=a+b\n",
    "print(c)\n"
   ]
  },
  {
   "cell_type": "code",
   "execution_count": 13,
   "id": "eb6a3138-4770-4d75-ad25-32e14cf25ced",
   "metadata": {},
   "outputs": [
    {
     "name": "stdout",
     "output_type": "stream",
     "text": [
      "110\n"
     ]
    }
   ],
   "source": [
    "a=50\n",
    "b=60\n",
    "print(a+b)"
   ]
  },
  {
   "cell_type": "code",
   "execution_count": 14,
   "id": "72759181-4219-4f90-9dc9-de52aa34c87f",
   "metadata": {},
   "outputs": [
    {
     "name": "stdout",
     "output_type": "stream",
     "text": [
      "110\n"
     ]
    }
   ],
   "source": [
    "print(50+60)"
   ]
  },
  {
   "cell_type": "code",
   "execution_count": 17,
   "id": "0c0ad520-c659-4644-83e3-9b38c65bf440",
   "metadata": {},
   "outputs": [
    {
     "name": "stdout",
     "output_type": "stream",
     "text": [
      "50:60:70:80\n"
     ]
    }
   ],
   "source": [
    "a=50\n",
    "b=60\n",
    "c=70\n",
    "d=80\n",
    "print(a,b,c,d,sep=\":\")"
   ]
  },
  {
   "cell_type": "code",
   "execution_count": 18,
   "id": "0c5283b5-1073-43be-aa8e-e825e0a7ffdf",
   "metadata": {},
   "outputs": [
    {
     "name": "stdout",
     "output_type": "stream",
     "text": [
      "The value of a : 10\n"
     ]
    }
   ],
   "source": [
    "a=10\n",
    "print(\"The value of a :\",a)"
   ]
  },
  {
   "cell_type": "code",
   "execution_count": 20,
   "id": "50dbdc1c-1c43-45c1-8fa3-77f43e869a95",
   "metadata": {},
   "outputs": [],
   "source": [
    "first_name='siva'\n",
    "last_name='hari'"
   ]
  },
  {
   "cell_type": "code",
   "execution_count": 21,
   "id": "8fa89984-e516-4585-a9cd-a5bd7b67d3bf",
   "metadata": {},
   "outputs": [
    {
     "name": "stdout",
     "output_type": "stream",
     "text": [
      "Name hari siva\n"
     ]
    }
   ],
   "source": [
    "print(\"Name\",last_name,first_name)\n"
   ]
  },
  {
   "cell_type": "code",
   "execution_count": 22,
   "id": "9a7a6c0c-913d-437b-ae26-13ee9a504754",
   "metadata": {},
   "outputs": [
    {
     "name": "stdout",
     "output_type": "stream",
     "text": [
      "My first name is: siva and last name is: hari\n"
     ]
    }
   ],
   "source": [
    "print(\"My first name is:\",first_name,\"and last name is:\",last_name)\n"
   ]
  },
  {
   "cell_type": "code",
   "execution_count": 23,
   "id": "3cc594c3-00ee-49f2-9571-cac21d47e9cd",
   "metadata": {},
   "outputs": [
    {
     "name": "stdout",
     "output_type": "stream",
     "text": [
      "my first nameis:siva and last name is:hari\n"
     ]
    }
   ],
   "source": [
    "print(\"my first nameis:{} and last name is:{}\".format(first_name,last_name))"
   ]
  },
  {
   "cell_type": "code",
   "execution_count": 26,
   "id": "162df8b5-f86d-4986-9abf-0de5b439efb5",
   "metadata": {},
   "outputs": [
    {
     "name": "stdout",
     "output_type": "stream",
     "text": [
      "my first name is:hariand last nameis:hari\n"
     ]
    }
   ],
   "source": [
    "#we can use kryword arguments to format the string\n",
    "print(\"my first name is:{first}and last nameis:{first}\".format(last=last_name,first=last_name))\n"
   ]
  },
  {
   "cell_type": "code",
   "execution_count": 29,
   "id": "188ff957-33b0-4f43-b10c-47f725673500",
   "metadata": {},
   "outputs": [
    {
     "name": "stdout",
     "output_type": "stream",
     "text": [
      "Hello kunal good morningkunal\n"
     ]
    }
   ],
   "source": [
    "print(\"Hello {name} {greeting}{name}\".format(name=\"kunal\",greeting=\"good morning\"))\n"
   ]
  },
  {
   "cell_type": "code",
   "execution_count": 31,
   "id": "0a1f04ac-da56-4988-a521-b2240b1c89f1",
   "metadata": {},
   "outputs": [
    {
     "name": "stdout",
     "output_type": "stream",
     "text": [
      "the story of bill,manfred,and georg\n"
     ]
    }
   ],
   "source": [
    "#we can combine positional argument with keyword arguments\n",
    "print('the story of {},{},and {other}'.format('bill','manfred',other='georg'))"
   ]
  },
  {
   "cell_type": "code",
   "execution_count": 32,
   "id": "9477d67b-6129-434d-bc3a-1ea517b49bb2",
   "metadata": {},
   "outputs": [
    {
     "name": "stdout",
     "output_type": "stream",
     "text": [
      "my number is:12 and my name is:sam\n",
      "my number is:12 and my name is:sam\n",
      "my number is: 12 and my name is: sam\n"
     ]
    }
   ],
   "source": [
    "num=12\n",
    "name='sam'\n",
    "print('my number is:{one} and my name is:{two}'.format(one=num,two=name))\n",
    "print('my number is:{} and my name is:{}'.format(num,name))\n",
    "print(\"my number is:\",num,\"and my name is:\",name)"
   ]
  },
  {
   "cell_type": "code",
   "execution_count": 33,
   "id": "19a2422a-5907-4129-8fa7-0d00f1a7e280",
   "metadata": {},
   "outputs": [
    {
     "data": {
      "text/plain": [
       "'C:\\\\Users\\\\kunal\\\\kunal ana'"
      ]
     },
     "execution_count": 33,
     "metadata": {},
     "output_type": "execute_result"
    }
   ],
   "source": [
    "pwd"
   ]
  },
  {
   "cell_type": "code",
   "execution_count": null,
   "id": "3eff2606-01bd-4120-b348-d15472625105",
   "metadata": {},
   "outputs": [],
   "source": []
  }
 ],
 "metadata": {
  "kernelspec": {
   "display_name": "Python 3 (ipykernel)",
   "language": "python",
   "name": "python3"
  },
  "language_info": {
   "codemirror_mode": {
    "name": "ipython",
    "version": 3
   },
   "file_extension": ".py",
   "mimetype": "text/x-python",
   "name": "python",
   "nbconvert_exporter": "python",
   "pygments_lexer": "ipython3",
   "version": "3.11.7"
  }
 },
 "nbformat": 4,
 "nbformat_minor": 5
}
